{
  "nbformat": 4,
  "nbformat_minor": 0,
  "metadata": {
    "colab": {
      "name": "CryptoProject.ipynb",
      "provenance": [],
      "collapsed_sections": [],
      "authorship_tag": "ABX9TyMN+2GBA6JMmIX5y0BtGgsp",
      "include_colab_link": true
    },
    "kernelspec": {
      "name": "python3",
      "display_name": "Python 3"
    },
    "language_info": {
      "name": "python"
    }
  },
  "cells": [
    {
      "cell_type": "markdown",
      "metadata": {
        "id": "view-in-github",
        "colab_type": "text"
      },
      "source": [
        "<a href=\"https://colab.research.google.com/github/RayMess/CryptoDB/blob/main/CryptoProject.ipynb\" target=\"_parent\"><img src=\"https://colab.research.google.com/assets/colab-badge.svg\" alt=\"Open In Colab\"/></a>"
      ]
    },
    {
      "cell_type": "code",
      "execution_count": 240,
      "metadata": {
        "colab": {
          "base_uri": "https://localhost:8080/"
        },
        "id": "7LT8LMZblloy",
        "outputId": "a9facab0-8686-402a-fcbc-dcbc2143937e"
      },
      "outputs": [
        {
          "output_type": "stream",
          "name": "stdout",
          "text": [
            "Requirement already satisfied: tink in /usr/local/lib/python3.7/dist-packages (1.6.1)\n",
            "Requirement already satisfied: six in /usr/local/lib/python3.7/dist-packages (from tink) (1.15.0)\n",
            "Requirement already satisfied: protobuf in /usr/local/lib/python3.7/dist-packages (from tink) (3.17.3)\n",
            "Requirement already satisfied: absl-py in /usr/local/lib/python3.7/dist-packages (from tink) (0.12.0)\n",
            "Requirement already satisfied: passlib in /usr/local/lib/python3.7/dist-packages (1.7.4)\n",
            "Requirement already satisfied: argon2_cffi in /usr/local/lib/python3.7/dist-packages (21.3.0)\n",
            "Requirement already satisfied: typing-extensions in /usr/local/lib/python3.7/dist-packages (from argon2_cffi) (3.10.0.2)\n",
            "Requirement already satisfied: argon2-cffi-bindings in /usr/local/lib/python3.7/dist-packages (from argon2_cffi) (21.2.0)\n",
            "Requirement already satisfied: cffi>=1.0.1 in /usr/local/lib/python3.7/dist-packages (from argon2-cffi-bindings->argon2_cffi) (1.15.0)\n",
            "Requirement already satisfied: pycparser in /usr/local/lib/python3.7/dist-packages (from cffi>=1.0.1->argon2-cffi-bindings->argon2_cffi) (2.21)\n",
            "Requirement already satisfied: bcrypt in /usr/local/lib/python3.7/dist-packages (3.2.0)\n",
            "Requirement already satisfied: six>=1.4.1 in /usr/local/lib/python3.7/dist-packages (from bcrypt) (1.15.0)\n",
            "Requirement already satisfied: cffi>=1.1 in /usr/local/lib/python3.7/dist-packages (from bcrypt) (1.15.0)\n",
            "Requirement already satisfied: pycparser in /usr/local/lib/python3.7/dist-packages (from cffi>=1.1->bcrypt) (2.21)\n"
          ]
        }
      ],
      "source": [
        "!pip install tink\n",
        "!pip install passlib\n",
        "!pip install argon2_cffi\n",
        "!pip install bcrypt"
      ]
    },
    {
      "cell_type": "code",
      "source": [
        "from tink import daead, cleartext_keyset_handle\n",
        "import passlib\n",
        "import argon2\n",
        "from argon2 import PasswordHasher\n",
        "import bcrypt\n",
        "import tink\n",
        "from passlib.context import CryptContext\n",
        "import binascii"
      ],
      "metadata": {
        "id": "aKZPxKnimCjw"
      },
      "execution_count": 241,
      "outputs": []
    },
    {
      "cell_type": "code",
      "source": [
        "daead.register()\n",
        "keyset_handle = tink.new_keyset_handle(daead.deterministic_aead_key_templates.AES256_SIV)\n",
        "with open('keyset.json', 'wt') as f:\n",
        "  cleartext_keyset_handle.write(\n",
        "    tink.JsonKeysetWriter(f), keyset_handle)"
      ],
      "metadata": {
        "id": "cIgkIblsDn2n"
      },
      "execution_count": 242,
      "outputs": []
    },
    {
      "cell_type": "code",
      "source": [
        "def read_keyset(filename):\n",
        "  with open(filename, 'rt') as f:\n",
        "    return cleartext_keyset_handle.read(\n",
        "      tink.JsonKeysetReader(f.read())\n",
        "    )"
      ],
      "metadata": {
        "id": "RezcN5EFETKF"
      },
      "execution_count": 243,
      "outputs": []
    },
    {
      "cell_type": "code",
      "source": [
        "database = 'database.txt'\n",
        "secret_key = read_keyset('keyset.json') # use Tink to generate your secret key here\n",
        "associated_data=b'data'\n",
        "daead_primitive = secret_key.primitive(daead.DeterministicAead)"
      ],
      "metadata": {
        "id": "_BPewnwWmS0p"
      },
      "execution_count": 244,
      "outputs": []
    },
    {
      "cell_type": "code",
      "source": [
        "def hash_password(pwd):\n",
        "  # create CryptContext object\n",
        "  context = CryptContext(\n",
        "        schemes=[\"argon2\"],\n",
        "        default=\"argon2\",\n",
        "        argon2__default_rounds=1000)\n",
        "  # hash password\n",
        "  hash=context.hash(pwd)\n",
        "  return hash\n"
      ],
      "metadata": {
        "id": "3LgWAwKimVJ6"
      },
      "execution_count": 245,
      "outputs": []
    },
    {
      "cell_type": "code",
      "source": [
        "def encryption_machine(msg):\n",
        "  # encrypt using AES-SIV\n",
        "  msgb=bytes(msg,'utf-8')\n",
        "  ciphertext = daead_primitive.encrypt_deterministically(msgb, associated_data)\n",
        "  return ciphertext\n",
        "\n",
        "def decryption_machine(msg):\n",
        "  msgb=daead_primitive.decrypt_deterministically(msg,associated_data)\n",
        "  return msgb.decode(\"utf-8\")"
      ],
      "metadata": {
        "id": "PpQ1mj2PmXrX"
      },
      "execution_count": 246,
      "outputs": []
    },
    {
      "cell_type": "code",
      "source": [
        "def save_to_database(user, pwd):\n",
        "  pwd1=hash_password(pwd)\n",
        "  pwd2=encryption_machine(pwd1)\n",
        "  pwd3=binascii.hexlify(pwd2)\n",
        "  pwd4=pwd3.decode('utf-8')\n",
        "  with open(database,\"a\") as db:\n",
        "    db.write(f'{user} , {pwd4}\\n')"
      ],
      "metadata": {
        "id": "-_jw7DyOmdpD"
      },
      "execution_count": 247,
      "outputs": []
    },
    {
      "cell_type": "code",
      "source": [
        "def check_password(user, pwd):\n",
        "  countu=1\n",
        "  countp=1\n",
        "  mdp=False\n",
        "  # read from database\n",
        "  count=0\n",
        "  with open(database,\"r\") as db:\n",
        "    for line in db.readlines():\n",
        "      #and check for authentication\n",
        "      if user in line :\n",
        "        userdb, md = line.split(' , ')\n",
        "        md1=md.encode('utf-8')\n",
        "        md1=md1.strip()\n",
        "        md2=binascii.unhexlify(md1)\n",
        "        dpwd = decryption_machine(md2)\n",
        "        return PasswordHasher().verify(dpwd,pwd)\n",
        "    return mdp"
      ],
      "metadata": {
        "id": "vNyXO3oBmgvi"
      },
      "execution_count": 248,
      "outputs": []
    },
    {
      "cell_type": "code",
      "source": [
        "def create_user():\n",
        "    username = input(\"Entrez votre nom d'utilisateur: \")\n",
        "    password = input(\"Entrez votre mot de passe: \")\n",
        "    save_to_database(username, password)\n",
        "    print(\"Utilisateur créé\")\n",
        "\n",
        "def login():\n",
        "    username = input(\"Entrez votre nom d'utilisateur: \")\n",
        "    password = input(\"Entrez votre mot de passe: \")\n",
        "    if check_password(username, password):\n",
        "        print(\"Connexion réussie\")\n",
        "    else:\n",
        "        print(\"Veuillez réessayer\")"
      ],
      "metadata": {
        "id": "tpnbrHOamiyM"
      },
      "execution_count": 249,
      "outputs": []
    },
    {
      "cell_type": "code",
      "source": [
        "def main():\n",
        "    while True:\n",
        "      print(\"Selectionnez une option:\")\n",
        "      print(\"1:Nouvel utilisateur 2:Se connecter 3:Sortie\")\n",
        "      option = input(\"Enter option: \")\n",
        "      if option == \"1\":\n",
        "          create_user()\n",
        "      elif option == \"2\":\n",
        "          login()\n",
        "      elif option == \"3\":\n",
        "          break\n",
        "      else:\n",
        "          print(\"Choisissez 1,2 ou 3\")\n",
        "\n",
        "main()"
      ],
      "metadata": {
        "colab": {
          "base_uri": "https://localhost:8080/"
        },
        "id": "rMfs9uRcmk-P",
        "outputId": "8748be2b-7bee-4f6b-8752-2134dcf29d62"
      },
      "execution_count": 250,
      "outputs": [
        {
          "name": "stdout",
          "output_type": "stream",
          "text": [
            "Selectionnez une option:\n",
            "1:Nouvel utilisateur 2:Se connecter 3:Sortie\n",
            "Enter option: 1\n",
            "Entrez votre nom d'utilisateur: abc\n",
            "Entrez votre mot de passe: abc\n",
            "Utilisateur créé\n",
            "Selectionnez une option:\n",
            "1:Nouvel utilisateur 2:Se connecter 3:Sortie\n",
            "Enter option: 2\n",
            "Entrez votre nom d'utilisateur: abc\n",
            "Entrez votre mot de passe: abc\n",
            "Connexion réussie\n",
            "Selectionnez une option:\n",
            "1:Nouvel utilisateur 2:Se connecter 3:Sortie\n",
            "Enter option: 3\n"
          ]
        }
      ]
    }
  ]
}